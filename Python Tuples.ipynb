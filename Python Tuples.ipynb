{
 "cells": [
  {
   "cell_type": "markdown",
   "id": "8e965913",
   "metadata": {},
   "source": [
    "# TUPLES"
   ]
  },
  {
   "cell_type": "code",
   "execution_count": 2,
   "id": "abb7e555",
   "metadata": {},
   "outputs": [],
   "source": [
    "# What are Tuples?\n",
    "    # --> Tuple is collection of immutable heterogeneous python objects\n",
    "        # ==>   x = [1, 89, A, Hey, 0, B] \n",
    "        #            |   |  |    |  |  |\n",
    "        # ==> index: 0,  1, 2,   3, 4, 5\n",
    "    # --> Once the Tuples are initialize, after the values cannot be change, its immutable"
   ]
  },
  {
   "cell_type": "markdown",
   "id": "e78ea88e",
   "metadata": {},
   "source": [
    "# Creating Tuples"
   ]
  },
  {
   "cell_type": "code",
   "execution_count": 6,
   "id": "ee54fb43",
   "metadata": {},
   "outputs": [
    {
     "name": "stdout",
     "output_type": "stream",
     "text": [
      "()\n"
     ]
    }
   ],
   "source": [
    "# Empty Tuples\n",
    "emp = ()\n",
    "type(emp)\n",
    "print(emp)"
   ]
  },
  {
   "cell_type": "code",
   "execution_count": 8,
   "id": "9e7b1585",
   "metadata": {},
   "outputs": [
    {
     "name": "stdout",
     "output_type": "stream",
     "text": [
      "('Pune', 'Bangalore', 'Chennai', 'Delhi', 'Kochi')\n",
      "<class 'tuple'>\n"
     ]
    }
   ],
   "source": [
    "city = (\"Pune\", \"Bangalore\", \"Chennai\", \"Delhi\", \"Kochi\")\n",
    "print(city)\n",
    "print(type(city))"
   ]
  },
  {
   "cell_type": "code",
   "execution_count": 9,
   "id": "5b498aa8",
   "metadata": {},
   "outputs": [
    {
     "data": {
      "text/plain": [
       "'Bangalore'"
      ]
     },
     "execution_count": 9,
     "metadata": {},
     "output_type": "execute_result"
    }
   ],
   "source": [
    "city[1]"
   ]
  },
  {
   "cell_type": "code",
   "execution_count": 10,
   "id": "d19ee242",
   "metadata": {},
   "outputs": [
    {
     "data": {
      "text/plain": [
       "'Kochi'"
      ]
     },
     "execution_count": 10,
     "metadata": {},
     "output_type": "execute_result"
    }
   ],
   "source": [
    "# accessing element from end of the Tuple\n",
    "city[-1]"
   ]
  },
  {
   "cell_type": "markdown",
   "id": "efeb90e5",
   "metadata": {},
   "source": [
    "# Concatination"
   ]
  },
  {
   "cell_type": "code",
   "execution_count": 13,
   "id": "0a6244f6",
   "metadata": {},
   "outputs": [
    {
     "name": "stdout",
     "output_type": "stream",
     "text": [
      "('Pune', 'Bangalore', 'Chennai', 'Delhi', 'Kochi')\n",
      "('Pune', 'Bangalore', 'Chennai', 'Delhi', 'Kochi', 1, 2, 3, 5, 4, 6, 7, 8, 9, 10, 11, 414141)\n"
     ]
    }
   ],
   "source": [
    "print(city)\n",
    "num = (1,2,3,5,4,6,7,8,9,10,11,414141)\n",
    "\n",
    "print(city+num)"
   ]
  },
  {
   "cell_type": "markdown",
   "id": "29ac7ab7",
   "metadata": {},
   "source": [
    "# Nesting"
   ]
  },
  {
   "cell_type": "code",
   "execution_count": 15,
   "id": "917c56ff",
   "metadata": {},
   "outputs": [
    {
     "name": "stdout",
     "output_type": "stream",
     "text": [
      "(('Pune', 'Bangalore', 'Chennai', 'Delhi', 'Kochi'), (1, 2, 3, 5, 4, 6, 7, 8, 9, 10, 11, 414141))\n"
     ]
    }
   ],
   "source": [
    "# one tuple inside another tuple\n",
    "nest = (city, num)\n",
    "print(nest)"
   ]
  },
  {
   "cell_type": "markdown",
   "id": "ed6e3c67",
   "metadata": {},
   "source": [
    "# Repeate"
   ]
  },
  {
   "cell_type": "code",
   "execution_count": 17,
   "id": "185c29a0",
   "metadata": {},
   "outputs": [
    {
     "data": {
      "text/plain": [
       "('Python', 'Python', 'Python', 'Python', 'Python')"
      ]
     },
     "execution_count": 17,
     "metadata": {},
     "output_type": "execute_result"
    }
   ],
   "source": [
    "rep = (\"Python\", )*5\n",
    "rep"
   ]
  },
  {
   "cell_type": "code",
   "execution_count": 20,
   "id": "a1a076c1",
   "metadata": {},
   "outputs": [
    {
     "name": "stdout",
     "output_type": "stream",
     "text": [
      "('Basics',)\n",
      "('Basics', 'Basics', 'Basics', 'Basics', 'Basics', 'Basics', 'Basics', 'Basics', 'Basics', 'Basics')\n"
     ]
    }
   ],
   "source": [
    "rep = (\"Basics\",)\n",
    "print(rep)\n",
    "\n",
    "print(rep*10)"
   ]
  },
  {
   "cell_type": "markdown",
   "id": "a9caef52",
   "metadata": {},
   "source": [
    "# Slicing"
   ]
  },
  {
   "cell_type": "code",
   "execution_count": 23,
   "id": "11106178",
   "metadata": {},
   "outputs": [
    {
     "name": "stdout",
     "output_type": "stream",
     "text": [
      "(1, 2, 3, 5, 4, 6, 7, 8, 9, 10, 11, 414141)\n"
     ]
    },
    {
     "data": {
      "text/plain": [
       "(2, 3, 5, 4, 6, 7, 8, 9, 10, 11, 414141)"
      ]
     },
     "execution_count": 23,
     "metadata": {},
     "output_type": "execute_result"
    }
   ],
   "source": [
    "print(num)\n",
    "\n",
    "num[1:]"
   ]
  },
  {
   "cell_type": "code",
   "execution_count": 24,
   "id": "0c1feaba",
   "metadata": {},
   "outputs": [
    {
     "data": {
      "text/plain": [
       "(414141, 11, 10, 9, 8, 7, 6, 4, 5, 3, 2, 1)"
      ]
     },
     "execution_count": 24,
     "metadata": {},
     "output_type": "execute_result"
    }
   ],
   "source": [
    "# Reverse\n",
    "num[::-1]"
   ]
  },
  {
   "cell_type": "markdown",
   "id": "6025c81d",
   "metadata": {},
   "source": [
    "# Unpacking"
   ]
  },
  {
   "cell_type": "code",
   "execution_count": 26,
   "id": "9a486957",
   "metadata": {},
   "outputs": [
    {
     "data": {
      "text/plain": [
       "('S', 'i', 'm', 'p', 'l', 'i', 'l', 'e', 'a', 'r', 'n')"
      ]
     },
     "execution_count": 26,
     "metadata": {},
     "output_type": "execute_result"
    }
   ],
   "source": [
    "tuple(\"Simplilearn\")"
   ]
  },
  {
   "cell_type": "code",
   "execution_count": 29,
   "id": "154fabb5",
   "metadata": {},
   "outputs": [
    {
     "name": "stdout",
     "output_type": "stream",
     "text": [
      "(1, 2, 3, 5, 4, 6, 7, 8, 9, 10, 11, 414141)\n"
     ]
    }
   ],
   "source": [
    "# tuple values set to the variables\n",
    "print(num)\n",
    "a,b,c,d,e,f,g,h,i,j,k,l = num"
   ]
  },
  {
   "cell_type": "code",
   "execution_count": 38,
   "id": "8ea3102e",
   "metadata": {},
   "outputs": [
    {
     "name": "stdout",
     "output_type": "stream",
     "text": [
      "(1, 2, 3, 5, 4, 6, 7, 8, 9, 10, 11, 414141)\n",
      "<class 'tuple'>\n",
      "1 [2, 3, 5, 4, 6, 7, 8, 9, 10, 11] 414141\n"
     ]
    },
    {
     "data": {
      "text/plain": [
       "list"
      ]
     },
     "execution_count": 38,
     "metadata": {},
     "output_type": "execute_result"
    }
   ],
   "source": [
    "# if don't know how many elements in tuples, \n",
    "    # --> *b = list[]\n",
    "print(num)\n",
    "print(type(num))\n",
    "a, *b, c = num\n",
    "print(a, b, c)\n",
    "type(a)\n",
    "type(c)\n",
    "type(b)"
   ]
  },
  {
   "cell_type": "markdown",
   "id": "8084c270",
   "metadata": {},
   "source": [
    "# Deleting a Tuple"
   ]
  },
  {
   "cell_type": "code",
   "execution_count": 42,
   "id": "bd5ca198",
   "metadata": {},
   "outputs": [
    {
     "name": "stdout",
     "output_type": "stream",
     "text": [
      "(1, 2, 3, 4, 5)\n"
     ]
    }
   ],
   "source": [
    "tuple1 = (1,2,3,4,5)\n",
    "print(tuple1)"
   ]
  },
  {
   "cell_type": "code",
   "execution_count": 43,
   "id": "467f7fc6",
   "metadata": {},
   "outputs": [],
   "source": [
    "del(tuple1)"
   ]
  },
  {
   "cell_type": "code",
   "execution_count": 44,
   "id": "d530a75b",
   "metadata": {},
   "outputs": [
    {
     "ename": "NameError",
     "evalue": "name 'tuple1' is not defined",
     "output_type": "error",
     "traceback": [
      "\u001b[1;31m---------------------------------------------------------------------------\u001b[0m",
      "\u001b[1;31mNameError\u001b[0m                                 Traceback (most recent call last)",
      "Input \u001b[1;32mIn [44]\u001b[0m, in \u001b[0;36m<cell line: 1>\u001b[1;34m()\u001b[0m\n\u001b[1;32m----> 1\u001b[0m \u001b[38;5;28mprint\u001b[39m(\u001b[43mtuple1\u001b[49m)\n",
      "\u001b[1;31mNameError\u001b[0m: name 'tuple1' is not defined"
     ]
    }
   ],
   "source": [
    "print(tuple1)"
   ]
  },
  {
   "cell_type": "markdown",
   "id": "7fc1ebad",
   "metadata": {},
   "source": [
    " # Built-in Functions"
   ]
  },
  {
   "cell_type": "code",
   "execution_count": 47,
   "id": "ef64806e",
   "metadata": {},
   "outputs": [
    {
     "name": "stdout",
     "output_type": "stream",
     "text": [
      "(2, 3, 4, 6, 7, 0, 8, 6, 4, 23, 1, 23, 3, 2, 3, 4, 6, 5, 7, 8)\n"
     ]
    }
   ],
   "source": [
    "num1 = (2,3,4,6,7,0,8,6,4,23,1,23,3,2,3,4,6,5,7,8)\n",
    "print(num1)"
   ]
  },
  {
   "cell_type": "code",
   "execution_count": 50,
   "id": "54980cc8",
   "metadata": {},
   "outputs": [
    {
     "data": {
      "text/plain": [
       "3"
      ]
     },
     "execution_count": 50,
     "metadata": {},
     "output_type": "execute_result"
    }
   ],
   "source": [
    "# how many 4's in the tuple\n",
    "num1.count(4)"
   ]
  },
  {
   "cell_type": "code",
   "execution_count": 51,
   "id": "f483862e",
   "metadata": {},
   "outputs": [
    {
     "data": {
      "text/plain": [
       "125"
      ]
     },
     "execution_count": 51,
     "metadata": {},
     "output_type": "execute_result"
    }
   ],
   "source": [
    "# Sum\n",
    "sum(num1)"
   ]
  },
  {
   "cell_type": "code",
   "execution_count": 52,
   "id": "722c45ea",
   "metadata": {},
   "outputs": [
    {
     "data": {
      "text/plain": [
       "20"
      ]
     },
     "execution_count": 52,
     "metadata": {},
     "output_type": "execute_result"
    }
   ],
   "source": [
    "len(num1)"
   ]
  },
  {
   "cell_type": "code",
   "execution_count": 54,
   "id": "56210d76",
   "metadata": {},
   "outputs": [
    {
     "data": {
      "text/plain": [
       "0"
      ]
     },
     "execution_count": 54,
     "metadata": {},
     "output_type": "execute_result"
    }
   ],
   "source": [
    "min(num1)"
   ]
  },
  {
   "cell_type": "code",
   "execution_count": 55,
   "id": "5406ffa3",
   "metadata": {},
   "outputs": [
    {
     "data": {
      "text/plain": [
       "23"
      ]
     },
     "execution_count": 55,
     "metadata": {},
     "output_type": "execute_result"
    }
   ],
   "source": [
    "max(num1)"
   ]
  },
  {
   "cell_type": "markdown",
   "id": "01ad281a",
   "metadata": {},
   "source": [
    "# Converting list to Tuple"
   ]
  },
  {
   "cell_type": "code",
   "execution_count": 58,
   "id": "9a006f03",
   "metadata": {},
   "outputs": [
    {
     "name": "stdout",
     "output_type": "stream",
     "text": [
      "<class 'list'>\n",
      "(1, 2, 3, 4, 5, 6, 7, 8, 9)\n",
      "<class 'tuple'>\n"
     ]
    }
   ],
   "source": [
    "lst = [1,2,3,4,5,6,7,8,9]\n",
    "print(type(lst))\n",
    "tpl = tuple(lst)\n",
    "print(tpl)\n",
    "print(type(tpl))"
   ]
  },
  {
   "cell_type": "markdown",
   "id": "a25449e0",
   "metadata": {},
   "source": [
    "# Nesting Tuples in a list"
   ]
  },
  {
   "cell_type": "code",
   "execution_count": 63,
   "id": "4751bd12",
   "metadata": {},
   "outputs": [
    {
     "name": "stdout",
     "output_type": "stream",
     "text": [
      "[(1, 2, 3, 4), (5, 6, 7, 8, 9)]\n"
     ]
    }
   ],
   "source": [
    "lst = [(1,2,3,4), (5,6,7,8,9)]\n",
    "print(lst)"
   ]
  },
  {
   "cell_type": "code",
   "execution_count": 64,
   "id": "5a76bfe2",
   "metadata": {},
   "outputs": [
    {
     "name": "stdout",
     "output_type": "stream",
     "text": [
      "[(1, 2, 3, 4), (5, 6, 7, 8, 9), ('Tuple', 'Inside', 'List')]\n"
     ]
    }
   ],
   "source": [
    "# append new tuple inside to the list lst\n",
    "lst.append((\"Tuple\", \"Inside\", \"List\"))\n",
    "print(lst)"
   ]
  },
  {
   "cell_type": "code",
   "execution_count": 65,
   "id": "6ed1fe5e",
   "metadata": {},
   "outputs": [
    {
     "name": "stdout",
     "output_type": "stream",
     "text": [
      "[(1, 2, 3, 4), ('Tuple', 'Inside', 'List')]\n"
     ]
    }
   ],
   "source": [
    "# remove tuples from the list lst\n",
    "lst.remove((5,6,7,8,9))\n",
    "print(lst)"
   ]
  },
  {
   "cell_type": "markdown",
   "id": "b790e6df",
   "metadata": {},
   "source": [
    "# Nesting Lists within Tuples"
   ]
  },
  {
   "cell_type": "code",
   "execution_count": 67,
   "id": "0a2e0797",
   "metadata": {},
   "outputs": [
    {
     "name": "stdout",
     "output_type": "stream",
     "text": [
      "([1, 2, 3, 4], ['a', 'b', 'c'], ['as', 'ewr'])\n"
     ]
    }
   ],
   "source": [
    "tpl = ([1,2,3,4],['a','b','c'],[\"as\",\"ewr\"])\n",
    "print(tpl)"
   ]
  },
  {
   "cell_type": "code",
   "execution_count": 69,
   "id": "b322781a",
   "metadata": {},
   "outputs": [
    {
     "name": "stdout",
     "output_type": "stream",
     "text": [
      "([1, 2, 3, 4, 10, 10], ['a', 'b', 'c'], ['as', 'ewr'])\n",
      "([1, 2, 3, 4, 10, 10], ['a', 'b', 'c'], ['as', 'ewr', 'zzz'])\n"
     ]
    }
   ],
   "source": [
    "# append inside the tuple list\n",
    "tpl[0].append(10)\n",
    "print(tpl)\n",
    "tpl[2].append(\"zzz\")\n",
    "print(tpl)"
   ]
  },
  {
   "cell_type": "code",
   "execution_count": 70,
   "id": "06e815e7",
   "metadata": {},
   "outputs": [
    {
     "name": "stdout",
     "output_type": "stream",
     "text": [
      "([1, 2, 3, 4, 10], ['a', 'b', 'c'], ['as', 'ewr', 'zzz'])\n"
     ]
    }
   ],
   "source": [
    "# remove\n",
    "tpl[0].remove(10)\n",
    "print(tpl)"
   ]
  },
  {
   "cell_type": "code",
   "execution_count": null,
   "id": "ada3931f",
   "metadata": {},
   "outputs": [],
   "source": []
  }
 ],
 "metadata": {
  "kernelspec": {
   "display_name": "Python 3 (ipykernel)",
   "language": "python",
   "name": "python3"
  },
  "language_info": {
   "codemirror_mode": {
    "name": "ipython",
    "version": 3
   },
   "file_extension": ".py",
   "mimetype": "text/x-python",
   "name": "python",
   "nbconvert_exporter": "python",
   "pygments_lexer": "ipython3",
   "version": "3.9.12"
  }
 },
 "nbformat": 4,
 "nbformat_minor": 5
}
