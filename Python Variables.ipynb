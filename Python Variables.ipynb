{
 "cells": [
  {
   "cell_type": "markdown",
   "id": "8c811c2c",
   "metadata": {},
   "source": [
    "# Data type: Integer"
   ]
  },
  {
   "cell_type": "code",
   "execution_count": 1,
   "id": "9e6db488",
   "metadata": {},
   "outputs": [],
   "source": [
    "x = 100"
   ]
  },
  {
   "cell_type": "code",
   "execution_count": 2,
   "id": "10830e33",
   "metadata": {},
   "outputs": [
    {
     "data": {
      "text/plain": [
       "int"
      ]
     },
     "execution_count": 2,
     "metadata": {},
     "output_type": "execute_result"
    }
   ],
   "source": [
    "type(x)"
   ]
  },
  {
   "cell_type": "code",
   "execution_count": 3,
   "id": "af79adf8",
   "metadata": {},
   "outputs": [
    {
     "name": "stdout",
     "output_type": "stream",
     "text": [
      "75\n"
     ]
    },
    {
     "data": {
      "text/plain": [
       "int"
      ]
     },
     "execution_count": 3,
     "metadata": {},
     "output_type": "execute_result"
    }
   ],
   "source": [
    "x = 10\n",
    "y = 5\n",
    "z = (x+y)* 5\n",
    "print(z)\n",
    "type(z)"
   ]
  },
  {
   "cell_type": "markdown",
   "id": "1deca6b2",
   "metadata": {},
   "source": [
    "# Data type: Float"
   ]
  },
  {
   "cell_type": "code",
   "execution_count": 5,
   "id": "d1e2111c",
   "metadata": {},
   "outputs": [
    {
     "data": {
      "text/plain": [
       "float"
      ]
     },
     "execution_count": 5,
     "metadata": {},
     "output_type": "execute_result"
    }
   ],
   "source": [
    "x = 3.14\n",
    "type(x)"
   ]
  },
  {
   "cell_type": "markdown",
   "id": "7582a245",
   "metadata": {},
   "source": [
    "# Data type: String"
   ]
  },
  {
   "cell_type": "code",
   "execution_count": 7,
   "id": "40ea6fd1",
   "metadata": {},
   "outputs": [],
   "source": [
    "x = \"simple learn\""
   ]
  },
  {
   "cell_type": "code",
   "execution_count": 9,
   "id": "ac970fa6",
   "metadata": {},
   "outputs": [
    {
     "name": "stdout",
     "output_type": "stream",
     "text": [
      "simple learn\n"
     ]
    },
    {
     "data": {
      "text/plain": [
       "str"
      ]
     },
     "execution_count": 9,
     "metadata": {},
     "output_type": "execute_result"
    }
   ],
   "source": [
    "print(x)\n",
    "type(x)"
   ]
  },
  {
   "cell_type": "markdown",
   "id": "ba44d287",
   "metadata": {},
   "source": [
    "# Python specified Data type: List"
   ]
  },
  {
   "cell_type": "code",
   "execution_count": null,
   "id": "ee634900",
   "metadata": {},
   "outputs": [],
   "source": [
    "# --> List is basically a collection of values with key index"
   ]
  },
  {
   "cell_type": "code",
   "execution_count": 2,
   "id": "8f4cf065",
   "metadata": {},
   "outputs": [
    {
     "name": "stdout",
     "output_type": "stream",
     "text": [
      "[10, 20, 30, 50, 80, 130]\n"
     ]
    },
    {
     "data": {
      "text/plain": [
       "list"
      ]
     },
     "execution_count": 2,
     "metadata": {},
     "output_type": "execute_result"
    }
   ],
   "source": [
    "x = [10, 20, 30, 50, 80, 130]\n",
    "print(x)\n",
    "type(x)"
   ]
  },
  {
   "cell_type": "code",
   "execution_count": 3,
   "id": "dbc75673",
   "metadata": {},
   "outputs": [],
   "source": [
    "# List data Extraction"
   ]
  },
  {
   "cell_type": "code",
   "execution_count": 4,
   "id": "e0b9a446",
   "metadata": {},
   "outputs": [
    {
     "name": "stdout",
     "output_type": "stream",
     "text": [
      "first list element: \n",
      "10\n",
      "last list element: \n",
      "130\n",
      "custom position element: \n",
      "50\n"
     ]
    }
   ],
   "source": [
    "print(\"first list element: \")\n",
    "print(x[0])\n",
    "print(\"last list element: \")\n",
    "print(x[5])\n",
    "print(\"custom position element: \")\n",
    "print(x[3])"
   ]
  },
  {
   "cell_type": "code",
   "execution_count": 5,
   "id": "a01d85cd",
   "metadata": {},
   "outputs": [],
   "source": [
    "# change value from a list: "
   ]
  },
  {
   "cell_type": "code",
   "execution_count": 6,
   "id": "b0b39844",
   "metadata": {},
   "outputs": [
    {
     "name": "stdout",
     "output_type": "stream",
     "text": [
      "Default x values: \n",
      "[10, 20, 30, 50, 80, 130]\n",
      "new x list values after changed: \n",
      "[10, 20, 210, 50, 80, 130]\n"
     ]
    }
   ],
   "source": [
    "print(\"Default x values: \")\n",
    "print(x)\n",
    "# change list value of 30 to 210\n",
    "x[2] = 210\n",
    "print(\"new x list values after changed: \")\n",
    "print(x)"
   ]
  },
  {
   "cell_type": "markdown",
   "id": "fb61ed7d",
   "metadata": {},
   "source": [
    "# Python specified Data type: tuple"
   ]
  },
  {
   "cell_type": "code",
   "execution_count": 8,
   "id": "c60ac956",
   "metadata": {},
   "outputs": [],
   "source": [
    "# -->  store multiple values in a single variable with index\n",
    "# --> tuples are immutable, so, once assigned that values never changed"
   ]
  },
  {
   "cell_type": "code",
   "execution_count": 9,
   "id": "8f1eef81",
   "metadata": {},
   "outputs": [
    {
     "name": "stdout",
     "output_type": "stream",
     "text": [
      "(5, 10, 15, 20, 25, 30, 35, 40, 45, 50)\n"
     ]
    },
    {
     "data": {
      "text/plain": [
       "tuple"
      ]
     },
     "execution_count": 9,
     "metadata": {},
     "output_type": "execute_result"
    }
   ],
   "source": [
    "x = (5, 10, 15, 20, 25, 30, 35, 40, 45, 50)\n",
    "print(x)\n",
    "type(x)"
   ]
  },
  {
   "cell_type": "code",
   "execution_count": 10,
   "id": "f897b569",
   "metadata": {},
   "outputs": [
    {
     "name": "stdout",
     "output_type": "stream",
     "text": [
      "first element of tuple: \n",
      "5\n",
      "last element of tuple: \n",
      "50\n",
      "custom element of tuple: \n",
      "30\n"
     ]
    }
   ],
   "source": [
    "# tuple data extraction\n",
    "print(\"first element of tuple: \")\n",
    "print(x[0])\n",
    "print(\"last element of tuple: \")\n",
    "print(x[9])\n",
    "print(\"custom element of tuple: \")\n",
    "print(x[5])"
   ]
  },
  {
   "cell_type": "markdown",
   "id": "b9a82e66",
   "metadata": {},
   "source": [
    "# file"
   ]
  },
  {
   "cell_type": "code",
   "execution_count": 24,
   "id": "627d0c0a",
   "metadata": {},
   "outputs": [
    {
     "name": "stdout",
     "output_type": "stream",
     "text": [
      "In ‘r’ mode, the file opens in the read mode. By default, if we don’t specify the mode argument, it will be treated as read or ‘r’ mode.\n"
     ]
    },
    {
     "data": {
      "text/plain": [
       "<_io.TextIOWrapper name='file_name.txt' mode='r' encoding='cp1252'>"
      ]
     },
     "execution_count": 24,
     "metadata": {},
     "output_type": "execute_result"
    }
   ],
   "source": [
    "# open file READ MODE\n",
    "print(\"In ‘r’ mode, the file opens in the read mode. By default, \" +\n",
    "      \"if we don’t specify the mode argument, it will be treated as read or ‘r’ mode.\")\n",
    "\n",
    "open(\"file_name.txt\", \"r\")"
   ]
  },
  {
   "cell_type": "code",
   "execution_count": 25,
   "id": "0d99c02f",
   "metadata": {},
   "outputs": [
    {
     "name": "stdout",
     "output_type": "stream",
     "text": [
      "In the ‘w’ mode, the file opens in write mode. It removes existing content, if present, in the file. If the specified file doesn’t exist, it creates one with the specified name.\n"
     ]
    },
    {
     "data": {
      "text/plain": [
       "<_io.TextIOWrapper name='file_name.txt' mode='w' encoding='cp1252'>"
      ]
     },
     "execution_count": 25,
     "metadata": {},
     "output_type": "execute_result"
    }
   ],
   "source": [
    "# open file WRITE MODE\n",
    "print(\"In the ‘w’ mode, the file opens in write mode. It removes existing content, \" + \n",
    "      \"if present, in the file. If the specified file doesn’t exist, it creates one with the specified name.\")\n",
    "open(\"file_name.txt\", \"w\")"
   ]
  },
  {
   "cell_type": "code",
   "execution_count": 26,
   "id": "e815198d",
   "metadata": {},
   "outputs": [
    {
     "name": "stdout",
     "output_type": "stream",
     "text": [
      "In the ‘a’ mode, the file opens in append mode. It adds content to an existing file (or append at the end of the file). If the specified file doesn’t exist, it creates one with the specified name. It does not remove the existing content from the file.\n"
     ]
    },
    {
     "data": {
      "text/plain": [
       "<_io.TextIOWrapper name='file_name.txt' mode='a' encoding='cp1252'>"
      ]
     },
     "execution_count": 26,
     "metadata": {},
     "output_type": "execute_result"
    }
   ],
   "source": [
    "# open file APPEND MODE\n",
    "print(\"In the ‘a’ mode, the file opens in append mode. It adds content to an existing \" + \n",
    "      \"file (or append at the end of the file). If the specified file doesn’t exist, it creates \" + \n",
    "      \"one with the specified name. It does not remove the existing content from the file.\")\n",
    "open(\"file_name.txt\", \"a\")"
   ]
  },
  {
   "cell_type": "code",
   "execution_count": 27,
   "id": "bd0eedf8",
   "metadata": {},
   "outputs": [
    {
     "name": "stdout",
     "output_type": "stream",
     "text": [
      "In the ‘r+’ mode, the file opens in the read & write mode. It does not remove existing content, if present, in the file and does not create a file if not present in the directory.\n"
     ]
    },
    {
     "data": {
      "text/plain": [
       "<_io.TextIOWrapper name='file_name.txt' mode='r+' encoding='cp1252'>"
      ]
     },
     "execution_count": 27,
     "metadata": {},
     "output_type": "execute_result"
    }
   ],
   "source": [
    "# open file READ & WRITE MODE\n",
    "print(\"In the ‘r+’ mode, the file opens in the read & write mode. It does not remove existing content, \" + \n",
    "      \"if present, in the file and does not create a file if not present in the directory.\")\n",
    "open(\"file_name.txt\", \"r+\")"
   ]
  },
  {
   "cell_type": "code",
   "execution_count": 28,
   "id": "04f32fe8",
   "metadata": {},
   "outputs": [
    {
     "name": "stdout",
     "output_type": "stream",
     "text": [
      " In the ‘w+’ mode, open the file in the read & write mode & remove existing content. If the file doesn’t exist, it creates a new one. It does not remove existing content & if a file doesn’t exist, it creates a new one.\n"
     ]
    },
    {
     "data": {
      "text/plain": [
       "<_io.TextIOWrapper name='file_name.txt' mode='w+' encoding='cp1252'>"
      ]
     },
     "execution_count": 28,
     "metadata": {},
     "output_type": "execute_result"
    }
   ],
   "source": [
    "# READ & WRTIE & REMOVE EXISTING CONTENT\n",
    "print(\" In the ‘w+’ mode, open the file in the read & write mode & remove existing content. \" + \n",
    "      \"If the file doesn’t exist, it creates a new one. It does not remove existing content &\" + \n",
    "      \" if a file doesn’t exist, it creates a new one.\")\n",
    "open(\"file_name.txt\", \"w+\")"
   ]
  },
  {
   "cell_type": "code",
   "execution_count": 29,
   "id": "97e89299",
   "metadata": {},
   "outputs": [
    {
     "name": "stdout",
     "output_type": "stream",
     "text": [
      " In the ‘a+’ mode, the file opens in the read & append mode. It does not remove existing  content & If the file doesn’t exist, it creates a new one.\n"
     ]
    },
    {
     "data": {
      "text/plain": [
       "<_io.TextIOWrapper name='file_name.txt' mode='a+' encoding='cp1252'>"
      ]
     },
     "execution_count": 29,
     "metadata": {},
     "output_type": "execute_result"
    }
   ],
   "source": [
    "# READ & APPEND MODE\n",
    "print(\" In the ‘a+’ mode, the file opens in the read & append mode. It does not remove existing \" + \n",
    "      \" content & If the file doesn’t exist, it creates a new one.\")\n",
    "open(\"file_name.txt\", \"a+\")"
   ]
  },
  {
   "cell_type": "code",
   "execution_count": 30,
   "id": "bab00ee3",
   "metadata": {},
   "outputs": [
    {
     "name": "stdout",
     "output_type": "stream",
     "text": [
      "we need to use a different combination of file opening mode arguments. Using ‘b’ with any mode, For example, ‘ab’, ‘rb’, ‘wb’, ‘rb+’, the file opens in binary mode. It is used for non-textual files like image, sound, executable (.exe) files.\n"
     ]
    },
    {
     "data": {
      "text/plain": [
       "<_io.BufferedReader name='file_name.txt'>"
      ]
     },
     "execution_count": 30,
     "metadata": {},
     "output_type": "execute_result"
    }
   ],
   "source": [
    "# if BINARY FILE\n",
    "print(\"we need to use a different combination of file opening mode arguments. Using ‘b’ with any \" + \n",
    "      \"mode, For example, ‘ab’, ‘rb’, ‘wb’, ‘rb+’, the file opens in binary mode. It is used for \" + \n",
    "      \"non-textual files like image, sound, executable (.exe) files.\")\n",
    "open(\"file_name.txt\", \"rb\")"
   ]
  },
  {
   "cell_type": "code",
   "execution_count": 31,
   "id": "1c0fc997",
   "metadata": {},
   "outputs": [
    {
     "name": "stdout",
     "output_type": "stream",
     "text": [
      "25\n",
      "50\n",
      "75\n"
     ]
    }
   ],
   "source": [
    "# tuple value assign model\n",
    "# --> x = 25         y=50        z=75\n",
    "(x, y, z) = 25, 50, 75\n",
    "print(x)\n",
    "print(y)\n",
    "print(z)"
   ]
  },
  {
   "cell_type": "code",
   "execution_count": 32,
   "id": "a6dfb4a9",
   "metadata": {},
   "outputs": [
    {
     "name": "stdout",
     "output_type": "stream",
     "text": [
      "1 1 1\n",
      "1 1 1\n"
     ]
    }
   ],
   "source": [
    "# same value multiple variable\n",
    "# --> x = 25         y=50        z=75\n",
    "(x, y, z) = 1, 1, 1\n",
    "print(x, y, z)\n",
    "# easy way\n",
    "a=b=c=1\n",
    "print(a, b, c)"
   ]
  },
  {
   "cell_type": "markdown",
   "id": "70fcabad",
   "metadata": {},
   "source": [
    "# RULES FOR NAMING VARIABLES"
   ]
  },
  {
   "cell_type": "code",
   "execution_count": null,
   "id": "223c66cd",
   "metadata": {},
   "outputs": [],
   "source": [
    "\n",
    "#  --> VARIABLE NAME MUST BE START WITH AN ALPHABET OR AN UNDERSCORE(_)\n",
    "    #  --> eg: abc=100          OR          _abc=10\n",
    "#  --> FIRST CHARECTER FOLLOWED BY ALPHABET, THEN NUMBER OR UNDERSCODE\n",
    "    #  --> eg: a100=100         OR         _a10_=10\n",
    "#  --> VARIABLE NAMES ARE CASE SENSITIVE\n",
    "    #  --> eg: A100=100     a100=10           BOTH ARE DIFFERENT VARIABLES\n",
    "#  --> RESERVED WORDS CANNOT BE USED AS VARIBLES\n",
    "    #  --> eg: break, class, try, ...\n"
   ]
  },
  {
   "cell_type": "markdown",
   "id": "ccf2fb63",
   "metadata": {},
   "source": [
    "# ARITHAMETIC OPERATIONS"
   ]
  },
  {
   "cell_type": "code",
   "execution_count": 35,
   "id": "ebf693e2",
   "metadata": {},
   "outputs": [
    {
     "name": "stdout",
     "output_type": "stream",
     "text": [
      "51000\n"
     ]
    }
   ],
   "source": [
    "x = 1000\n",
    "y = 50000\n",
    "# Addition +\n",
    "result = x + y\n",
    "print(result)"
   ]
  },
  {
   "cell_type": "code",
   "execution_count": 36,
   "id": "8a9e6485",
   "metadata": {},
   "outputs": [
    {
     "name": "stdout",
     "output_type": "stream",
     "text": [
      "-49000\n"
     ]
    }
   ],
   "source": [
    "# Substraction -\n",
    "result = x - y\n",
    "print(result)"
   ]
  },
  {
   "cell_type": "code",
   "execution_count": 37,
   "id": "a8b88ab0",
   "metadata": {},
   "outputs": [
    {
     "name": "stdout",
     "output_type": "stream",
     "text": [
      "50000000\n"
     ]
    }
   ],
   "source": [
    "# Multiplication\n",
    "result = x * y\n",
    "print(result)"
   ]
  },
  {
   "cell_type": "code",
   "execution_count": 49,
   "id": "5395ee37",
   "metadata": {},
   "outputs": [
    {
     "name": "stdout",
     "output_type": "stream",
     "text": [
      "50.0\n",
      "___________________________\n",
      "50\n"
     ]
    },
    {
     "data": {
      "text/plain": [
       "int"
      ]
     },
     "execution_count": 49,
     "metadata": {},
     "output_type": "execute_result"
    }
   ],
   "source": [
    "# Division\n",
    "result = y / x\n",
    "type(result)\n",
    "print(result)\n",
    "print(\"___________________________\")\n",
    "# Division output get in integer\n",
    "result = y // x\n",
    "print(result)\n",
    "type(result)"
   ]
  },
  {
   "cell_type": "code",
   "execution_count": 50,
   "id": "45e38d3d",
   "metadata": {},
   "outputs": [
    {
     "name": "stdout",
     "output_type": "stream",
     "text": [
      "1000\n"
     ]
    }
   ],
   "source": [
    "# Modulles %\n",
    "result = x % y\n",
    "print(result)"
   ]
  },
  {
   "cell_type": "markdown",
   "id": "a3345dcf",
   "metadata": {},
   "source": [
    "# String operations"
   ]
  },
  {
   "cell_type": "code",
   "execution_count": 56,
   "id": "66603615",
   "metadata": {},
   "outputs": [],
   "source": [
    "var = \"Abdul Rahim Kattirithodi\""
   ]
  },
  {
   "cell_type": "code",
   "execution_count": 61,
   "id": "0e25e660",
   "metadata": {},
   "outputs": [
    {
     "name": "stdout",
     "output_type": "stream",
     "text": [
      "first char: : A\n",
      "custom char: : R\n"
     ]
    }
   ],
   "source": [
    "# Extract each charecter string\n",
    "print(\"first char: : \" + var[0])\n",
    "print(\"custom char: : \" + var[6])"
   ]
  },
  {
   "cell_type": "code",
   "execution_count": 66,
   "id": "be8e61d2",
   "metadata": {
    "scrolled": true
   },
   "outputs": [
    {
     "name": "stdout",
     "output_type": "stream",
     "text": [
      "first 5 char: : : Abdul\n",
      "first 5 char : : : Abdul\n",
      "6th char to last char: : : : Rahim Kattirithodi\n"
     ]
    }
   ],
   "source": [
    "# print mutiple character start to end pont\n",
    "print(\"first 5 char: : : \" + var[0:5])\n",
    "print(\"first 5 char : : : \" + var[:5])\n",
    "print(\"6th char to last char: : : : \" + var[6:])"
   ]
  },
  {
   "cell_type": "markdown",
   "id": "ac09161f",
   "metadata": {},
   "source": [
    "# length of a varible data"
   ]
  },
  {
   "cell_type": "code",
   "execution_count": 68,
   "id": "f7ed14c5",
   "metadata": {},
   "outputs": [
    {
     "name": "stdout",
     "output_type": "stream",
     "text": [
      "24\n"
     ]
    }
   ],
   "source": [
    "print(len(var))"
   ]
  },
  {
   "cell_type": "code",
   "execution_count": null,
   "id": "7b199595",
   "metadata": {},
   "outputs": [],
   "source": []
  }
 ],
 "metadata": {
  "kernelspec": {
   "display_name": "Python 3 (ipykernel)",
   "language": "python",
   "name": "python3"
  },
  "language_info": {
   "codemirror_mode": {
    "name": "ipython",
    "version": 3
   },
   "file_extension": ".py",
   "mimetype": "text/x-python",
   "name": "python",
   "nbconvert_exporter": "python",
   "pygments_lexer": "ipython3",
   "version": "3.9.12"
  }
 },
 "nbformat": 4,
 "nbformat_minor": 5
}
