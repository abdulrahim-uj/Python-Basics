{
 "cells": [
  {
   "cell_type": "markdown",
   "id": "53816a3b",
   "metadata": {},
   "source": [
    "# Integer"
   ]
  },
  {
   "cell_type": "code",
   "execution_count": 2,
   "id": "f4b8f121",
   "metadata": {},
   "outputs": [
    {
     "data": {
      "text/plain": [
       "int"
      ]
     },
     "execution_count": 2,
     "metadata": {},
     "output_type": "execute_result"
    }
   ],
   "source": [
    "num = 1\n",
    "type(num)"
   ]
  },
  {
   "cell_type": "markdown",
   "id": "a9e945f3",
   "metadata": {},
   "source": [
    "# Float"
   ]
  },
  {
   "cell_type": "code",
   "execution_count": 4,
   "id": "e7c6af3b",
   "metadata": {},
   "outputs": [
    {
     "data": {
      "text/plain": [
       "float"
      ]
     },
     "execution_count": 4,
     "metadata": {},
     "output_type": "execute_result"
    }
   ],
   "source": [
    "num = 10.04\n",
    "type(num)"
   ]
  },
  {
   "cell_type": "markdown",
   "id": "56f2b73c",
   "metadata": {},
   "source": [
    "# Complex"
   ]
  },
  {
   "cell_type": "code",
   "execution_count": 9,
   "id": "c1242e2d",
   "metadata": {},
   "outputs": [
    {
     "data": {
      "text/plain": [
       "complex"
      ]
     },
     "execution_count": 9,
     "metadata": {},
     "output_type": "execute_result"
    }
   ],
   "source": [
    "# complex numbers have 2 parts [real part , imaginery part]\n",
    "num = 10+5j\n",
    "type(num)"
   ]
  },
  {
   "cell_type": "code",
   "execution_count": 10,
   "id": "9cfba2a4",
   "metadata": {},
   "outputs": [
    {
     "data": {
      "text/plain": [
       "10.0"
      ]
     },
     "execution_count": 10,
     "metadata": {},
     "output_type": "execute_result"
    }
   ],
   "source": [
    "# view real and imaginery part seperatly\n",
    "# REAL PART\n",
    "    # in complex values always stored is in float\n",
    "num.real"
   ]
  },
  {
   "cell_type": "code",
   "execution_count": 11,
   "id": "120a04c4",
   "metadata": {},
   "outputs": [
    {
     "data": {
      "text/plain": [
       "5.0"
      ]
     },
     "execution_count": 11,
     "metadata": {},
     "output_type": "execute_result"
    }
   ],
   "source": [
    "# IMAGINERY PART\n",
    "num.imag"
   ]
  },
  {
   "cell_type": "code",
   "execution_count": 12,
   "id": "e5b09efa",
   "metadata": {},
   "outputs": [],
   "source": [
    "num1 = 10\n",
    "num2 = 2"
   ]
  },
  {
   "cell_type": "code",
   "execution_count": 17,
   "id": "b4314f96",
   "metadata": {},
   "outputs": [
    {
     "name": "stdout",
     "output_type": "stream",
     "text": [
      "ADDITION\n",
      "12\n",
      "SUBSTRACTION\n",
      "8\n",
      "MULTIPLICATION\n",
      "20\n",
      "DIVISION\n",
      "5.0\n",
      "ONLY GET REMINDER VALUES / MODULES FROM DIVISION\n",
      "0\n",
      "EXAMPLE FOR THAT WITH CUSTOM VALUE [10/3 = 3*3 = 9; =>10-9=1]\n",
      "1\n",
      "DIVISION [OUTPUT ONLY IN INTEGER]\n",
      "5\n",
      "RAEST TO ?  10*10\n",
      "100\n"
     ]
    }
   ],
   "source": [
    "print(\"ADDITION\")\n",
    "print(num1+num2)\n",
    "\n",
    "print(\"SUBSTRACTION\")\n",
    "print(num1-num2)\n",
    "\n",
    "print(\"MULTIPLICATION\")\n",
    "print(num1*num2)\n",
    "\n",
    "print(\"DIVISION\")\n",
    "print(num1/num2)\n",
    "\n",
    "print(\"ONLY GET REMINDER VALUES / MODULES FROM DIVISION\")\n",
    "print(num1%num2)\n",
    "print(\"EXAMPLE FOR THAT WITH CUSTOM VALUE [10/3 = 3*3 = 9; =>10-9=1]\")\n",
    "print(10%3)\n",
    "\n",
    "\n",
    "print(\"DIVISION [OUTPUT ONLY IN INTEGER]\")\n",
    "print(num1//num2)\n",
    "\n",
    "print(\"RAEST TO ?  10*10\")\n",
    "print(num1**num2)\n",
    "\n"
   ]
  },
  {
   "cell_type": "markdown",
   "id": "f79eb444",
   "metadata": {},
   "source": [
    "# CONVERSIONS"
   ]
  },
  {
   "cell_type": "code",
   "execution_count": 23,
   "id": "9b185f6c",
   "metadata": {},
   "outputs": [
    {
     "name": "stdout",
     "output_type": "stream",
     "text": [
      "<class 'str'>\n",
      "<class 'int'>\n"
     ]
    },
    {
     "data": {
      "text/plain": [
       "int"
      ]
     },
     "execution_count": 23,
     "metadata": {},
     "output_type": "execute_result"
    }
   ],
   "source": [
    "# String to Integer \n",
    "x = \"192\"\n",
    "print(type(x))\n",
    "\n",
    "int(x)\n",
    "\n",
    "print(type(int(x)))\n",
    "\n",
    "x = int(x)\n",
    "type(x)"
   ]
  },
  {
   "cell_type": "code",
   "execution_count": 27,
   "id": "99af86d5",
   "metadata": {},
   "outputs": [
    {
     "name": "stdout",
     "output_type": "stream",
     "text": [
      "192.0\n"
     ]
    }
   ],
   "source": [
    "# Integer to Float\n",
    "type(x)\n",
    "\n",
    "x = float(x)\n",
    "type(x)\n",
    "\n",
    "print(x)"
   ]
  },
  {
   "cell_type": "code",
   "execution_count": 30,
   "id": "f65cbe48",
   "metadata": {},
   "outputs": [
    {
     "name": "stdout",
     "output_type": "stream",
     "text": [
      "(192+0j)\n"
     ]
    }
   ],
   "source": [
    "# Convert to Complex\n",
    "type(x)\n",
    "\n",
    "x = complex(x)\n",
    "type(x)\n",
    "print(x)"
   ]
  },
  {
   "cell_type": "code",
   "execution_count": 32,
   "id": "ce5efbaa",
   "metadata": {},
   "outputs": [
    {
     "name": "stdout",
     "output_type": "stream",
     "text": [
      "GENERATED COMPLEX: \n",
      "(10+5j)\n"
     ]
    }
   ],
   "source": [
    "# GENERATE COMPLEX NUMBERS\n",
    "_real = 10\n",
    "_imag = 5\n",
    "gene = complex(_real, _imag)\n",
    "print(\"GENERATED COMPLEX: \")\n",
    "print(gene)"
   ]
  },
  {
   "cell_type": "markdown",
   "id": "d5c04ce4",
   "metadata": {},
   "source": [
    "# FUNCTIONS"
   ]
  },
  {
   "cell_type": "code",
   "execution_count": 34,
   "id": "d2de44e8",
   "metadata": {},
   "outputs": [
    {
     "name": "stdout",
     "output_type": "stream",
     "text": [
      "7.512\n"
     ]
    }
   ],
   "source": [
    "# Absolute         -      abs\n",
    "    # --> it return always positive values\n",
    "x = -7.512\n",
    "print(abs(x))"
   ]
  },
  {
   "cell_type": "code",
   "execution_count": 35,
   "id": "652acc5e",
   "metadata": {},
   "outputs": [
    {
     "name": "stdout",
     "output_type": "stream",
     "text": [
      "2.718281828459045\n",
      "148.4131591025766\n"
     ]
    }
   ],
   "source": [
    "# Exponent         -      exp\n",
    "    # --> takes single parameter and return that parameter as the power e\n",
    "    # --> need to import math library \n",
    "import math\n",
    "x = 5\n",
    "# default python e value is constant, 2.718281828459045\n",
    "print(math.e)\n",
    "print(math.exp(x))"
   ]
  },
  {
   "cell_type": "code",
   "execution_count": 37,
   "id": "325d67d2",
   "metadata": {},
   "outputs": [
    {
     "data": {
      "text/plain": [
       "3.141592653589793"
      ]
     },
     "execution_count": 37,
     "metadata": {},
     "output_type": "execute_result"
    }
   ],
   "source": [
    "# Default python Pi value is 3.141592653589793, also constant\n",
    "math.pi"
   ]
  },
  {
   "cell_type": "code",
   "execution_count": 38,
   "id": "a8df50ef",
   "metadata": {},
   "outputs": [
    {
     "name": "stdout",
     "output_type": "stream",
     "text": [
      "3.0\n"
     ]
    }
   ],
   "source": [
    "# Square Root           -       sqrt\n",
    "print(math.sqrt(9))"
   ]
  },
  {
   "cell_type": "code",
   "execution_count": 39,
   "id": "a6af83a3",
   "metadata": {},
   "outputs": [
    {
     "data": {
      "text/plain": [
       "99999"
      ]
     },
     "execution_count": 39,
     "metadata": {},
     "output_type": "execute_result"
    }
   ],
   "source": [
    "# max\n",
    "max(10, 20, 100, 500, 1000, 99999)"
   ]
  },
  {
   "cell_type": "code",
   "execution_count": 40,
   "id": "91a9104d",
   "metadata": {},
   "outputs": [
    {
     "data": {
      "text/plain": [
       "2"
      ]
     },
     "execution_count": 40,
     "metadata": {},
     "output_type": "execute_result"
    }
   ],
   "source": [
    "# min\n",
    "min(5, 2, 10, 20, 100, 500, 1000, 99999)"
   ]
  },
  {
   "cell_type": "code",
   "execution_count": null,
   "id": "d653e1da",
   "metadata": {},
   "outputs": [],
   "source": []
  }
 ],
 "metadata": {
  "kernelspec": {
   "display_name": "Python 3 (ipykernel)",
   "language": "python",
   "name": "python3"
  },
  "language_info": {
   "codemirror_mode": {
    "name": "ipython",
    "version": 3
   },
   "file_extension": ".py",
   "mimetype": "text/x-python",
   "name": "python",
   "nbconvert_exporter": "python",
   "pygments_lexer": "ipython3",
   "version": "3.9.12"
  }
 },
 "nbformat": 4,
 "nbformat_minor": 5
}
