{
 "cells": [
  {
   "cell_type": "markdown",
   "id": "4d14d01b",
   "metadata": {},
   "source": [
    "# Lists"
   ]
  },
  {
   "cell_type": "code",
   "execution_count": 2,
   "id": "d7bfe721",
   "metadata": {},
   "outputs": [],
   "source": [
    "# What are lists?\n",
    "    # --> A list is a collection of data, it can hold values of multiple data types & with indexes\n",
    "        # ==>   x = [1, 89, A, Hey, 0, B] \n",
    "        #            |   |  |    |  |  |\n",
    "        # ==> index: 0,  1, 2,   3, 4, 5"
   ]
  },
  {
   "cell_type": "code",
   "execution_count": 4,
   "id": "b3dec505",
   "metadata": {},
   "outputs": [
    {
     "name": "stdout",
     "output_type": "stream",
     "text": [
      "[10, 20, 50, 70, 80, 110]\n"
     ]
    },
    {
     "data": {
      "text/plain": [
       "list"
      ]
     },
     "execution_count": 4,
     "metadata": {},
     "output_type": "execute_result"
    }
   ],
   "source": [
    "# Creating Lists\n",
    "# integer list\n",
    "num = [10, 20, 50, 70, 80, 110]\n",
    "print(num)\n",
    "type(num)"
   ]
  },
  {
   "cell_type": "code",
   "execution_count": 6,
   "id": "ac948213",
   "metadata": {},
   "outputs": [
    {
     "name": "stdout",
     "output_type": "stream",
     "text": [
      "['a', 'B', 'c', 'D', 'e', 'F', 'g']\n"
     ]
    },
    {
     "data": {
      "text/plain": [
       "list"
      ]
     },
     "execution_count": 6,
     "metadata": {},
     "output_type": "execute_result"
    }
   ],
   "source": [
    "# single charecter list\n",
    "letters = ['a', 'B', 'c', 'D', 'e', 'F', 'g']\n",
    "print(letters)\n",
    "type(letters)"
   ]
  },
  {
   "cell_type": "code",
   "execution_count": 7,
   "id": "e6f1d71e",
   "metadata": {},
   "outputs": [
    {
     "name": "stdout",
     "output_type": "stream",
     "text": [
      "['asd', 'efghjj', 'werter', 'cvbnhtyiy', 'nvnbmbbdbbfgh', 'xdfg', 'werfypwz']\n"
     ]
    },
    {
     "data": {
      "text/plain": [
       "list"
      ]
     },
     "execution_count": 7,
     "metadata": {},
     "output_type": "execute_result"
    }
   ],
   "source": [
    "# string list\n",
    "strng = [\"asd\", \"efghjj\", \"werter\", \"cvbnhtyiy\", \"nvnbmbbdbbfgh\", \"xdfg\", \"werfypwz\"]\n",
    "print(strng)\n",
    "type(strng)"
   ]
  },
  {
   "cell_type": "code",
   "execution_count": 9,
   "id": "9b32f177",
   "metadata": {},
   "outputs": [
    {
     "name": "stdout",
     "output_type": "stream",
     "text": [
      "[10, 20, 'A', 'asdsd', 33, 'w', 's', 'sdfsdfs', 22, 'QTIBG']\n"
     ]
    },
    {
     "data": {
      "text/plain": [
       "list"
      ]
     },
     "execution_count": 9,
     "metadata": {},
     "output_type": "execute_result"
    }
   ],
   "source": [
    "# mixed data types list\n",
    "mix = [10, 20, 'A', \"asdsd\", 33, 'w', 's', \"sdfsdfs\", 22, \"QTIBG\"]\n",
    "print(mix)\n",
    "type(mix)"
   ]
  },
  {
   "cell_type": "code",
   "execution_count": 11,
   "id": "7eb60d47",
   "metadata": {},
   "outputs": [
    {
     "name": "stdout",
     "output_type": "stream",
     "text": [
      "[[10, 20, 30], ['A', 'b', 'c', 'D'], ['asdasd', 'werwer', 'cvbvbnvn', 'AerBx'], [100, 'A', 3000, 'yjj', 'X', 'uiijl']]\n"
     ]
    },
    {
     "data": {
      "text/plain": [
       "list"
      ]
     },
     "execution_count": 11,
     "metadata": {},
     "output_type": "execute_result"
    }
   ],
   "source": [
    "# matrix list\n",
    "    # --> list containing lists\n",
    "matri = [[10, 20, 30], ['A', 'b', 'c', 'D'], [\"asdasd\", \"werwer\", \"cvbvbnvn\", \"AerBx\"], [100, 'A', 3000, \"yjj\", 'X', \"uiijl\"]]\n",
    "print(matri)\n",
    "type(matri)"
   ]
  },
  {
   "cell_type": "markdown",
   "id": "3bb0adf6",
   "metadata": {},
   "source": [
    "# accessing elements in the Lists"
   ]
  },
  {
   "cell_type": "code",
   "execution_count": 15,
   "id": "25ca58e8",
   "metadata": {},
   "outputs": [
    {
     "name": "stdout",
     "output_type": "stream",
     "text": [
      "[10, 20, 'A', 'asdsd', 33, 'w', 's', 'sdfsdfs', 22, 'QTIBG']\n",
      "sdfsdfs\n",
      "sdfsdfs\n"
     ]
    }
   ],
   "source": [
    "print(mix)\n",
    "print(mix[7])\n",
    "# selecting from last to first\n",
    "print(mix[-3])"
   ]
  },
  {
   "cell_type": "code",
   "execution_count": 16,
   "id": "b5d09128",
   "metadata": {},
   "outputs": [
    {
     "name": "stdout",
     "output_type": "stream",
     "text": [
      "[10, 20, 'A']\n"
     ]
    }
   ],
   "source": [
    "print(mix[:3])"
   ]
  },
  {
   "cell_type": "code",
   "execution_count": 17,
   "id": "6065eb6d",
   "metadata": {},
   "outputs": [
    {
     "data": {
      "text/plain": [
       "[10, 20, 'A']"
      ]
     },
     "execution_count": 17,
     "metadata": {},
     "output_type": "execute_result"
    }
   ],
   "source": [
    "mix[0:3]"
   ]
  },
  {
   "cell_type": "code",
   "execution_count": 18,
   "id": "296cb402",
   "metadata": {},
   "outputs": [
    {
     "data": {
      "text/plain": [
       "['asdsd', 33, 'w', 's', 'sdfsdfs', 22, 'QTIBG']"
      ]
     },
     "execution_count": 18,
     "metadata": {},
     "output_type": "execute_result"
    }
   ],
   "source": [
    "mix[3:]"
   ]
  },
  {
   "cell_type": "code",
   "execution_count": 19,
   "id": "35f411df",
   "metadata": {},
   "outputs": [
    {
     "data": {
      "text/plain": [
       "['sdfsdfs', 22, 'QTIBG']"
      ]
     },
     "execution_count": 19,
     "metadata": {},
     "output_type": "execute_result"
    }
   ],
   "source": [
    "mix[-3:]"
   ]
  },
  {
   "cell_type": "code",
   "execution_count": 22,
   "id": "6d3ca186",
   "metadata": {},
   "outputs": [
    {
     "data": {
      "text/plain": [
       "['A', 'asdsd', 33, 'w', 's', 'sdfsdfs', 22, 'QTIBG']"
      ]
     },
     "execution_count": 22,
     "metadata": {},
     "output_type": "execute_result"
    }
   ],
   "source": [
    "mix[2::]"
   ]
  },
  {
   "cell_type": "code",
   "execution_count": 23,
   "id": "eb6371c3",
   "metadata": {},
   "outputs": [
    {
     "data": {
      "text/plain": [
       "[10, 'A', 33, 's', 22]"
      ]
     },
     "execution_count": 23,
     "metadata": {},
     "output_type": "execute_result"
    }
   ],
   "source": [
    "mix[::2]"
   ]
  },
  {
   "cell_type": "code",
   "execution_count": 24,
   "id": "968a369d",
   "metadata": {},
   "outputs": [
    {
     "data": {
      "text/plain": [
       "[10, 'asdsd', 's', 'QTIBG']"
      ]
     },
     "execution_count": 24,
     "metadata": {},
     "output_type": "execute_result"
    }
   ],
   "source": [
    "mix[::3]"
   ]
  },
  {
   "cell_type": "code",
   "execution_count": 25,
   "id": "4f3de165",
   "metadata": {},
   "outputs": [
    {
     "data": {
      "text/plain": [
       "['QTIBG', 22, 'sdfsdfs', 's', 'w', 33, 'asdsd', 'A', 20, 10]"
      ]
     },
     "execution_count": 25,
     "metadata": {},
     "output_type": "execute_result"
    }
   ],
   "source": [
    "# reverce order\n",
    "mix[::-1]"
   ]
  },
  {
   "cell_type": "markdown",
   "id": "2ceb9aa4",
   "metadata": {},
   "source": [
    "# OPERATIONS ON LISTS"
   ]
  },
  {
   "cell_type": "code",
   "execution_count": 27,
   "id": "d412f9df",
   "metadata": {},
   "outputs": [
    {
     "name": "stdout",
     "output_type": "stream",
     "text": [
      "[0, 0, 0, 0, 0, 0, 0, 0, 0, 0, 0, 0, 0, 0, 0, 0, 0, 0, 0, 0, 0, 0, 0, 0, 0, 0, 0, 0, 0, 0, 0, 0, 0, 0, 0, 0, 0, 0, 0, 0, 0, 0, 0, 0, 0, 0, 0, 0, 0, 0, 0, 0, 0, 0, 0, 0, 0, 0, 0, 0, 0, 0, 0, 0, 0, 0, 0, 0, 0, 0, 0, 0, 0, 0, 0, 0, 0, 0, 0, 0, 0, 0, 0, 0, 0, 0, 0, 0, 0, 0, 0, 0, 0, 0, 0, 0, 0, 0, 0, 0]\n"
     ]
    },
    {
     "data": {
      "text/plain": [
       "list"
      ]
     },
     "execution_count": 27,
     "metadata": {},
     "output_type": "execute_result"
    }
   ],
   "source": [
    "# Repeat values\n",
    "z = [0] * 100\n",
    "print(z)\n",
    "type(z)"
   ]
  },
  {
   "cell_type": "code",
   "execution_count": 33,
   "id": "959b6e7a",
   "metadata": {},
   "outputs": [
    {
     "name": "stdout",
     "output_type": "stream",
     "text": [
      "['a', 'B', 'c', 'D', 'e', 'F', 'g']\n",
      "['asd', 'efghjj', 'werter', 'cvbnhtyiy', 'nvnbmbbdbbfgh', 'xdfg', 'werfypwz']\n",
      "['a', 'B', 'c', 'D', 'e', 'F', 'g', 'asd', 'efghjj', 'werter', 'cvbnhtyiy', 'nvnbmbbdbbfgh', 'xdfg', 'werfypwz']\n"
     ]
    }
   ],
   "source": [
    "# Concatinating\n",
    "print(letters)\n",
    "print(strng)\n",
    "conc = letters + strng\n",
    "print(conc)"
   ]
  },
  {
   "cell_type": "code",
   "execution_count": 3,
   "id": "88bb4de2",
   "metadata": {},
   "outputs": [
    {
     "name": "stdout",
     "output_type": "stream",
     "text": [
      "['B', 'i', 's', 'm', 'i', 'l', 'l', 'a', 'h']\n"
     ]
    },
    {
     "data": {
      "text/plain": [
       "list"
      ]
     },
     "execution_count": 3,
     "metadata": {},
     "output_type": "execute_result"
    }
   ],
   "source": [
    "# Unpacking\n",
    "    # --> everything in a single string element\n",
    "var = \"Bismillah\"\n",
    "var = list(var)\n",
    "print(var)\n",
    "type(var)"
   ]
  },
  {
   "cell_type": "code",
   "execution_count": 4,
   "id": "f35e3b86",
   "metadata": {},
   "outputs": [
    {
     "name": "stdout",
     "output_type": "stream",
     "text": [
      "['B', 'i', 's', 'm', 'i', 'l', 'l', 'a', 'h']\n",
      "__________________\n",
      "B\n",
      "['i', 's', 'm', 'i', 'l', 'l', 'a', 'h']\n"
     ]
    }
   ],
   "source": [
    "# one, *other means variable one set first element of the list, then *other set remainding all elements from the list\n",
    "print(var)\n",
    "print(\"__________________\")\n",
    "one, *other = var\n",
    "print(one)\n",
    "print(other)"
   ]
  },
  {
   "cell_type": "markdown",
   "id": "101c831f",
   "metadata": {},
   "source": [
    "# METHODS IN LISTS"
   ]
  },
  {
   "cell_type": "code",
   "execution_count": 9,
   "id": "93be84c9",
   "metadata": {},
   "outputs": [
    {
     "name": "stdout",
     "output_type": "stream",
     "text": [
      "[1, 2, 3, 4, 5]\n",
      "[1, 2, 3, 4, 5, 6]\n"
     ]
    }
   ],
   "source": [
    "# Append\n",
    "num = [1, 2, 3, 4, 5]\n",
    "print(num)\n",
    "\n",
    "num.append(6)\n",
    "print(num)"
   ]
  },
  {
   "cell_type": "code",
   "execution_count": 15,
   "id": "59d3ddda",
   "metadata": {},
   "outputs": [
    {
     "name": "stdout",
     "output_type": "stream",
     "text": [
      "['sdfsd', 'sdfsfsd', 'd', 7]\n",
      "[1, 2, 3, 4, 5, 6]\n",
      "[1, 2, 3, 4, 5, 6, 'sdfsd', 'sdfsfsd', 'd', 7]\n"
     ]
    }
   ],
   "source": [
    "# Extends\n",
    "str = [\"sdfsd\", \"sdfsfsd\", 'd', 7]\n",
    "print(str)\n",
    "print(num)\n",
    "\n",
    "num.extend(str)\n",
    "print(num)"
   ]
  },
  {
   "cell_type": "code",
   "execution_count": 17,
   "id": "6960742c",
   "metadata": {},
   "outputs": [
    {
     "name": "stdout",
     "output_type": "stream",
     "text": [
      "['sdfsd', 'sdfsfsd', 77777777777, 77777777777, 'd', 7]\n"
     ]
    }
   ],
   "source": [
    "# Insert\n",
    "    # --> insert somewhere in the list two params 1st position index, 2nd is value\n",
    "str.insert(2, 77777777777)\n",
    "print(str)"
   ]
  },
  {
   "cell_type": "code",
   "execution_count": 18,
   "id": "11767ea0",
   "metadata": {},
   "outputs": [
    {
     "name": "stdout",
     "output_type": "stream",
     "text": [
      "['sdfsd', 'sdfsfsd', 77777777777, 77777777777, 'd', 7]\n",
      "['sdfsd', 'sdfsfsd', 77777777777, 'd', 7]\n"
     ]
    }
   ],
   "source": [
    "# Remove\n",
    "    # --> Its only removes single element\n",
    "print(str)\n",
    "str.remove(77777777777)\n",
    "print(str)"
   ]
  },
  {
   "cell_type": "code",
   "execution_count": 19,
   "id": "ed5bd416",
   "metadata": {},
   "outputs": [
    {
     "name": "stdout",
     "output_type": "stream",
     "text": [
      "['a', 'b', 'c', 'd', 'e', 'f', 'g']\n"
     ]
    }
   ],
   "source": [
    "# Sort\n",
    "var1 = ['f', 'b', 'd', 'a', 'c', 'e', 'g']\n",
    "var1.sort()\n",
    "print(var1)"
   ]
  },
  {
   "cell_type": "markdown",
   "id": "6edf88d1",
   "metadata": {},
   "source": [
    "# BUILT-IN FUNCTIONS WITH LISTS"
   ]
  },
  {
   "cell_type": "code",
   "execution_count": 24,
   "id": "1996bbad",
   "metadata": {},
   "outputs": [
    {
     "data": {
      "text/plain": [
       "6"
      ]
     },
     "execution_count": 24,
     "metadata": {},
     "output_type": "execute_result"
    }
   ],
   "source": [
    "# Length            -       len\n",
    "x = [10,20,30,40,4, 1,]\n",
    "len(x)"
   ]
  },
  {
   "cell_type": "code",
   "execution_count": 25,
   "id": "9f2fd55a",
   "metadata": {},
   "outputs": [
    {
     "data": {
      "text/plain": [
       "1"
      ]
     },
     "execution_count": 25,
     "metadata": {},
     "output_type": "execute_result"
    }
   ],
   "source": [
    "# Minimum           -         min\n",
    "min(x)"
   ]
  },
  {
   "cell_type": "code",
   "execution_count": 26,
   "id": "a5c0e672",
   "metadata": {},
   "outputs": [
    {
     "data": {
      "text/plain": [
       "40"
      ]
     },
     "execution_count": 26,
     "metadata": {},
     "output_type": "execute_result"
    }
   ],
   "source": [
    "# MAXIMUM          -        max\n",
    "max(x)"
   ]
  },
  {
   "cell_type": "code",
   "execution_count": 27,
   "id": "19ce162e",
   "metadata": {},
   "outputs": [
    {
     "data": {
      "text/plain": [
       "105"
      ]
     },
     "execution_count": 27,
     "metadata": {},
     "output_type": "execute_result"
    }
   ],
   "source": [
    "# SUM             -          sum\n",
    "sum(x)"
   ]
  },
  {
   "cell_type": "code",
   "execution_count": 28,
   "id": "ff57a68a",
   "metadata": {},
   "outputs": [
    {
     "data": {
      "text/plain": [
       "17.5"
      ]
     },
     "execution_count": 28,
     "metadata": {},
     "output_type": "execute_result"
    }
   ],
   "source": [
    "# AVERAGE\n",
    "\n",
    "sum(x)/len(x)"
   ]
  },
  {
   "cell_type": "code",
   "execution_count": null,
   "id": "795a0e98",
   "metadata": {},
   "outputs": [],
   "source": []
  }
 ],
 "metadata": {
  "kernelspec": {
   "display_name": "Python 3 (ipykernel)",
   "language": "python",
   "name": "python3"
  },
  "language_info": {
   "codemirror_mode": {
    "name": "ipython",
    "version": 3
   },
   "file_extension": ".py",
   "mimetype": "text/x-python",
   "name": "python",
   "nbconvert_exporter": "python",
   "pygments_lexer": "ipython3",
   "version": "3.9.12"
  }
 },
 "nbformat": 4,
 "nbformat_minor": 5
}
